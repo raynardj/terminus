{
 "cells": [
  {
   "cell_type": "code",
   "execution_count": 11,
   "metadata": {
    "collapsed": false,
    "deletable": true,
    "editable": true
   },
   "outputs": [],
   "source": [
    "import pandas as pd\n",
    "from predef import get_db,seenan"
   ]
  },
  {
   "cell_type": "code",
   "execution_count": 12,
   "metadata": {
    "collapsed": false,
    "deletable": true,
    "editable": true
   },
   "outputs": [],
   "source": [
    "# File Address\n",
    "xl='/home/salvor/djs/mt01/major/static/xlrd/costcenter.xlsx'\n",
    "cssdf=pd.read_excel(xl)"
   ]
  },
  {
   "cell_type": "code",
   "execution_count": 13,
   "metadata": {
    "collapsed": false,
    "deletable": true,
    "editable": true
   },
   "outputs": [
    {
     "data": {
      "text/html": [
       "<div>\n",
       "<table border=\"1\" class=\"dataframe\">\n",
       "  <thead>\n",
       "    <tr style=\"text-align: right;\">\n",
       "      <th></th>\n",
       "      <th>admin</th>\n",
       "      <th>userid</th>\n",
       "      <th>上级成本中心</th>\n",
       "      <th>审批人</th>\n",
       "      <th>审批人2</th>\n",
       "      <th>审批人3</th>\n",
       "      <th>成本中心名称</th>\n",
       "      <th>描述</th>\n",
       "      <th>审批金额</th>\n",
       "      <th>是否需要审批</th>\n",
       "    </tr>\n",
       "  </thead>\n",
       "  <tbody>\n",
       "    <tr>\n",
       "      <th>0</th>\n",
       "      <td>staples</td>\n",
       "      <td>23866</td>\n",
       "      <td>NaN</td>\n",
       "      <td>100010</td>\n",
       "      <td>NaN</td>\n",
       "      <td>NaN</td>\n",
       "      <td>大头儿子</td>\n",
       "      <td>白石塔</td>\n",
       "      <td>1000</td>\n",
       "      <td>NaN</td>\n",
       "    </tr>\n",
       "    <tr>\n",
       "      <th>1</th>\n",
       "      <td>staples</td>\n",
       "      <td>24751</td>\n",
       "      <td>NaN</td>\n",
       "      <td>100014</td>\n",
       "      <td>NaN</td>\n",
       "      <td>NaN</td>\n",
       "      <td>小头爸爸</td>\n",
       "      <td>白石搭</td>\n",
       "      <td>1000</td>\n",
       "      <td>NaN</td>\n",
       "    </tr>\n",
       "    <tr>\n",
       "      <th>2</th>\n",
       "      <td>staples</td>\n",
       "      <td>new1</td>\n",
       "      <td>NaN</td>\n",
       "      <td>100010</td>\n",
       "      <td>NaN</td>\n",
       "      <td>NaN</td>\n",
       "      <td>白雪公主姓白</td>\n",
       "      <td>白石搭白塔</td>\n",
       "      <td>1000</td>\n",
       "      <td>是</td>\n",
       "    </tr>\n",
       "    <tr>\n",
       "      <th>3</th>\n",
       "      <td>staples</td>\n",
       "      <td>23113</td>\n",
       "      <td>NaN</td>\n",
       "      <td>100246</td>\n",
       "      <td>100190</td>\n",
       "      <td>NaN</td>\n",
       "      <td>葫芦娃</td>\n",
       "      <td>白塔白石搭</td>\n",
       "      <td>1000</td>\n",
       "      <td>NaN</td>\n",
       "    </tr>\n",
       "  </tbody>\n",
       "</table>\n",
       "</div>"
      ],
      "text/plain": [
       "     admin userid  上级成本中心     审批人    审批人2  审批人3  成本中心名称     描述  审批金额 是否需要审批\n",
       "0  staples  23866     NaN  100010     NaN   NaN    大头儿子    白石塔  1000    NaN\n",
       "1  staples  24751     NaN  100014     NaN   NaN    小头爸爸    白石搭  1000    NaN\n",
       "2  staples   new1     NaN  100010     NaN   NaN  白雪公主姓白  白石搭白塔  1000      是\n",
       "3  staples  23113     NaN  100246  100190   NaN     葫芦娃  白塔白石搭  1000    NaN"
      ]
     },
     "execution_count": 13,
     "metadata": {},
     "output_type": "execute_result"
    }
   ],
   "source": [
    "cssdf.head()"
   ]
  },
  {
   "cell_type": "code",
   "execution_count": 14,
   "metadata": {
    "collapsed": false,
    "deletable": true,
    "editable": true
   },
   "outputs": [
    {
     "name": "stdout",
     "output_type": "stream",
     "text": [
      "[Admin User Name]:staples\n",
      ">>>[User ID]:23113\n",
      "Row Dict [staples][23113]: {u'\\u5ba1\\u6279\\u91d1\\u989d': 1000, 'log': {'status': '0', 'csstask': 'costcenter'}, u'\\u5ba1\\u6279\\u4eba': '100190,100246', u'admin': u'staples', u'\\u6210\\u672c\\u4e2d\\u5fc3\\u540d\\u79f0': u'\\u846b\\u82a6\\u5a03', u'userid': 23113, u'\\u63cf\\u8ff0': u'\\u767d\\u5854\\u767d\\u77f3\\u642d'}\n",
      ">>>[User ID]:23866\n",
      "Row Dict [staples][23866]: {u'\\u5ba1\\u6279\\u91d1\\u989d': 1000, 'log': {'status': '0', 'csstask': 'costcenter'}, u'\\u5ba1\\u6279\\u4eba': '100010', u'admin': u'staples', u'\\u6210\\u672c\\u4e2d\\u5fc3\\u540d\\u79f0': u'\\u5927\\u5934\\u513f\\u5b50', u'userid': 23866, u'\\u63cf\\u8ff0': u'\\u767d\\u77f3\\u5854'}\n",
      ">>>[User ID]:new1\n",
      "Row Dict [staples][new1]: {u'\\u5ba1\\u6279\\u91d1\\u989d': 1000, 'log': {'status': '0', 'csstask': 'costcenter'}, u'\\u5ba1\\u6279\\u4eba': '100010', u'admin': u'staples', u'\\u6210\\u672c\\u4e2d\\u5fc3\\u540d\\u79f0': u'\\u767d\\u96ea\\u516c\\u4e3b\\u59d3\\u767d', u'\\u662f\\u5426\\u9700\\u8981\\u5ba1\\u6279': u'\\u662f', u'userid': u'new1', u'\\u63cf\\u8ff0': u'\\u767d\\u77f3\\u642d\\u767d\\u5854'}\n",
      ">>>[User ID]:24751\n",
      "Row Dict [staples][24751]: {u'\\u5ba1\\u6279\\u91d1\\u989d': 1000, 'log': {'status': '0', 'csstask': 'costcenter'}, u'\\u5ba1\\u6279\\u4eba': '100014', u'admin': u'staples', u'\\u6210\\u672c\\u4e2d\\u5fc3\\u540d\\u79f0': u'\\u5c0f\\u5934\\u7238\\u7238', u'userid': 24751, u'\\u63cf\\u8ff0': u'\\u767d\\u77f3\\u642d'}\n"
     ]
    }
   ],
   "source": [
    "context=dict()\n",
    "context.update({\"data_preview\":cssdf.head().to_html()})\n",
    "rows=len(cssdf)\n",
    "#Remove the duplictes of the admins\n",
    "admins=list(set(cssdf[u\"admin\"]))\n",
    "admindf=dict()\n",
    "userids=dict()\n",
    "rowdict=dict()\n",
    "rowdf=dict()\n",
    "db=get_db(\"foundation\")\n",
    "for adm in admins:\n",
    "    admindf[adm]=cssdf[cssdf.admin.isin([adm])]\n",
    "    print \"[Admin User Name]:%s\"%(adm)\n",
    "    userids[adm]=list(set(admindf[adm][u\"userid\"]))\n",
    "    for uid in userids[adm]:\n",
    "        print \">>>[User ID]:%s\"%(uid)\n",
    "        rowdf[adm]=dict()\n",
    "        rowdf[adm][uid]=admindf[adm][admindf[adm].userid.isin([uid])]\n",
    "        rowdict[adm]=dict()\n",
    "        rowdict[adm][uid]=dict()\n",
    "        for line in rowdf[adm][uid].index:\n",
    "            alist=list()\n",
    "            for k,v in dict(rowdf[adm][uid].loc[line]).iteritems():\n",
    "                if seenan(v):\n",
    "                    if k in [u\"审批人\",u\"审批人2\",u\"审批人3\",u\"成本中心\"]:\n",
    "                        alist.append(str(int(v)))\n",
    "                    else:\n",
    "                        rowdict[adm][uid].update({k:v})\n",
    "            if len(alist) != 0:\n",
    "                astr=\",\".join(alist)\n",
    "                rowdict[adm][uid].update({u\"审批人\":astr})\n",
    "                    #print \"[Value Pair]:Key>%s, Val>%s\"%(k,v)\n",
    "        rowdict[adm][uid].update({\n",
    "        \"log\":\n",
    "                {\n",
    "                \"csstask\":\"costcenter\",\n",
    "                \"status\":\"0\",\n",
    "                }\n",
    "                })\n",
    "        #db.cssadv.insert(rowdict[adm][uid])\n",
    "        print \"Row Dict [%s][%s]:\"%(adm,uid),rowdict[adm][uid]"
   ]
  },
  {
   "cell_type": "code",
   "execution_count": null,
   "metadata": {
    "collapsed": true,
    "deletable": true,
    "editable": true
   },
   "outputs": [],
   "source": []
  }
 ],
 "metadata": {
  "kernelspec": {
   "display_name": "Python 2",
   "language": "python",
   "name": "python2"
  },
  "language_info": {
   "codemirror_mode": {
    "name": "ipython",
    "version": 2
   },
   "file_extension": ".py",
   "mimetype": "text/x-python",
   "name": "python",
   "nbconvert_exporter": "python",
   "pygments_lexer": "ipython2",
   "version": "2.7.12"
  }
 },
 "nbformat": 4,
 "nbformat_minor": 2
}
